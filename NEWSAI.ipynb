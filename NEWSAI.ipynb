{
  "nbformat": 4,
  "nbformat_minor": 0,
  "metadata": {
    "colab": {
      "provenance": []
    },
    "kernelspec": {
      "name": "python3",
      "display_name": "Python 3"
    },
    "language_info": {
      "name": "python"
    }
  },
  "cells": [
    {
      "cell_type": "code",
      "source": [
        "!pip install -q langchain\n",
        "!pip install -q faiss-cpu\n",
        "!pip install -q sentence-transformers\n",
        "!pip install -q transformers\n",
        "!pip install -q pypdf\n",
        "!pip install -q accelerate\n",
        "!pip install -q bitsandbytes\n",
        "!pip install -q huggingface-hub\n"
      ],
      "metadata": {
        "colab": {
          "base_uri": "https://localhost:8080/"
        },
        "id": "9FCQp3ccDFEJ",
        "outputId": "0678e66d-bab4-444c-c265-c7795bd2d0ec"
      },
      "execution_count": 1,
      "outputs": [
        {
          "output_type": "stream",
          "name": "stdout",
          "text": [
            "\u001b[2K   \u001b[90m━━━━━━━━━━━━━━━━━━━━━━━━━━━━━━━━━━━━━━━━\u001b[0m \u001b[32m31.3/31.3 MB\u001b[0m \u001b[31m22.0 MB/s\u001b[0m eta \u001b[36m0:00:00\u001b[0m\n",
            "\u001b[2K   \u001b[90m━━━━━━━━━━━━━━━━━━━━━━━━━━━━━━━━━━━━━━━━\u001b[0m \u001b[32m363.4/363.4 MB\u001b[0m \u001b[31m4.5 MB/s\u001b[0m eta \u001b[36m0:00:00\u001b[0m\n",
            "\u001b[2K   \u001b[90m━━━━━━━━━━━━━━━━━━━━━━━━━━━━━━━━━━━━━━━━\u001b[0m \u001b[32m13.8/13.8 MB\u001b[0m \u001b[31m92.3 MB/s\u001b[0m eta \u001b[36m0:00:00\u001b[0m\n",
            "\u001b[2K   \u001b[90m━━━━━━━━━━━━━━━━━━━━━━━━━━━━━━━━━━━━━━━━\u001b[0m \u001b[32m24.6/24.6 MB\u001b[0m \u001b[31m36.2 MB/s\u001b[0m eta \u001b[36m0:00:00\u001b[0m\n",
            "\u001b[2K   \u001b[90m━━━━━━━━━━━━━━━━━━━━━━━━━━━━━━━━━━━━━━━━\u001b[0m \u001b[32m883.7/883.7 kB\u001b[0m \u001b[31m39.3 MB/s\u001b[0m eta \u001b[36m0:00:00\u001b[0m\n",
            "\u001b[2K   \u001b[90m━━━━━━━━━━━━━━━━━━━━━━━━━━━━━━━━━━━━━━━━\u001b[0m \u001b[32m664.8/664.8 MB\u001b[0m \u001b[31m2.3 MB/s\u001b[0m eta \u001b[36m0:00:00\u001b[0m\n",
            "\u001b[2K   \u001b[90m━━━━━━━━━━━━━━━━━━━━━━━━━━━━━━━━━━━━━━━━\u001b[0m \u001b[32m211.5/211.5 MB\u001b[0m \u001b[31m5.9 MB/s\u001b[0m eta \u001b[36m0:00:00\u001b[0m\n",
            "\u001b[2K   \u001b[90m━━━━━━━━━━━━━━━━━━━━━━━━━━━━━━━━━━━━━━━━\u001b[0m \u001b[32m56.3/56.3 MB\u001b[0m \u001b[31m10.8 MB/s\u001b[0m eta \u001b[36m0:00:00\u001b[0m\n",
            "\u001b[2K   \u001b[90m━━━━━━━━━━━━━━━━━━━━━━━━━━━━━━━━━━━━━━━━\u001b[0m \u001b[32m127.9/127.9 MB\u001b[0m \u001b[31m7.6 MB/s\u001b[0m eta \u001b[36m0:00:00\u001b[0m\n",
            "\u001b[2K   \u001b[90m━━━━━━━━━━━━━━━━━━━━━━━━━━━━━━━━━━━━━━━━\u001b[0m \u001b[32m207.5/207.5 MB\u001b[0m \u001b[31m6.0 MB/s\u001b[0m eta \u001b[36m0:00:00\u001b[0m\n",
            "\u001b[2K   \u001b[90m━━━━━━━━━━━━━━━━━━━━━━━━━━━━━━━━━━━━━━━━\u001b[0m \u001b[32m21.1/21.1 MB\u001b[0m \u001b[31m86.1 MB/s\u001b[0m eta \u001b[36m0:00:00\u001b[0m\n",
            "\u001b[2K   \u001b[90m━━━━━━━━━━━━━━━━━━━━━━━━━━━━━━━━━━━━━━━━\u001b[0m \u001b[32m304.6/304.6 kB\u001b[0m \u001b[31m9.5 MB/s\u001b[0m eta \u001b[36m0:00:00\u001b[0m\n",
            "\u001b[2K   \u001b[90m━━━━━━━━━━━━━━━━━━━━━━━━━━━━━━━━━━━━━━━━\u001b[0m \u001b[32m67.0/67.0 MB\u001b[0m \u001b[31m11.3 MB/s\u001b[0m eta \u001b[36m0:00:00\u001b[0m\n",
            "\u001b[?25h"
          ]
        }
      ]
    },
    {
      "cell_type": "code",
      "source": [
        "pip install newspaper3k\n"
      ],
      "metadata": {
        "colab": {
          "base_uri": "https://localhost:8080/"
        },
        "collapsed": true,
        "id": "E1OwrDu2qqYG",
        "outputId": "154ecbf8-4a40-4b7e-fda8-76ffbb1a4bb2"
      },
      "execution_count": 2,
      "outputs": [
        {
          "output_type": "stream",
          "name": "stdout",
          "text": [
            "Collecting newspaper3k\n",
            "  Downloading newspaper3k-0.2.8-py3-none-any.whl.metadata (11 kB)\n",
            "Requirement already satisfied: beautifulsoup4>=4.4.1 in /usr/local/lib/python3.11/dist-packages (from newspaper3k) (4.13.4)\n",
            "Requirement already satisfied: Pillow>=3.3.0 in /usr/local/lib/python3.11/dist-packages (from newspaper3k) (11.2.1)\n",
            "Requirement already satisfied: PyYAML>=3.11 in /usr/local/lib/python3.11/dist-packages (from newspaper3k) (6.0.2)\n",
            "Collecting cssselect>=0.9.2 (from newspaper3k)\n",
            "  Downloading cssselect-1.3.0-py3-none-any.whl.metadata (2.6 kB)\n",
            "Requirement already satisfied: lxml>=3.6.0 in /usr/local/lib/python3.11/dist-packages (from newspaper3k) (5.4.0)\n",
            "Requirement already satisfied: nltk>=3.2.1 in /usr/local/lib/python3.11/dist-packages (from newspaper3k) (3.9.1)\n",
            "Requirement already satisfied: requests>=2.10.0 in /usr/local/lib/python3.11/dist-packages (from newspaper3k) (2.32.3)\n",
            "Collecting feedparser>=5.2.1 (from newspaper3k)\n",
            "  Downloading feedparser-6.0.11-py3-none-any.whl.metadata (2.4 kB)\n",
            "Collecting tldextract>=2.0.1 (from newspaper3k)\n",
            "  Downloading tldextract-5.3.0-py3-none-any.whl.metadata (11 kB)\n",
            "Collecting feedfinder2>=0.0.4 (from newspaper3k)\n",
            "  Downloading feedfinder2-0.0.4.tar.gz (3.3 kB)\n",
            "  Preparing metadata (setup.py) ... \u001b[?25l\u001b[?25hdone\n",
            "Collecting jieba3k>=0.35.1 (from newspaper3k)\n",
            "  Downloading jieba3k-0.35.1.zip (7.4 MB)\n",
            "\u001b[2K     \u001b[90m━━━━━━━━━━━━━━━━━━━━━━━━━━━━━━━━━━━━━━━━\u001b[0m \u001b[32m7.4/7.4 MB\u001b[0m \u001b[31m88.1 MB/s\u001b[0m eta \u001b[36m0:00:00\u001b[0m\n",
            "\u001b[?25h  Preparing metadata (setup.py) ... \u001b[?25l\u001b[?25hdone\n",
            "Requirement already satisfied: python-dateutil>=2.5.3 in /usr/local/lib/python3.11/dist-packages (from newspaper3k) (2.9.0.post0)\n",
            "Collecting tinysegmenter==0.3 (from newspaper3k)\n",
            "  Downloading tinysegmenter-0.3.tar.gz (16 kB)\n",
            "  Preparing metadata (setup.py) ... \u001b[?25l\u001b[?25hdone\n",
            "Requirement already satisfied: soupsieve>1.2 in /usr/local/lib/python3.11/dist-packages (from beautifulsoup4>=4.4.1->newspaper3k) (2.7)\n",
            "Requirement already satisfied: typing-extensions>=4.0.0 in /usr/local/lib/python3.11/dist-packages (from beautifulsoup4>=4.4.1->newspaper3k) (4.14.0)\n",
            "Requirement already satisfied: six in /usr/local/lib/python3.11/dist-packages (from feedfinder2>=0.0.4->newspaper3k) (1.17.0)\n",
            "Collecting sgmllib3k (from feedparser>=5.2.1->newspaper3k)\n",
            "  Downloading sgmllib3k-1.0.0.tar.gz (5.8 kB)\n",
            "  Preparing metadata (setup.py) ... \u001b[?25l\u001b[?25hdone\n",
            "Requirement already satisfied: click in /usr/local/lib/python3.11/dist-packages (from nltk>=3.2.1->newspaper3k) (8.2.1)\n",
            "Requirement already satisfied: joblib in /usr/local/lib/python3.11/dist-packages (from nltk>=3.2.1->newspaper3k) (1.5.1)\n",
            "Requirement already satisfied: regex>=2021.8.3 in /usr/local/lib/python3.11/dist-packages (from nltk>=3.2.1->newspaper3k) (2024.11.6)\n",
            "Requirement already satisfied: tqdm in /usr/local/lib/python3.11/dist-packages (from nltk>=3.2.1->newspaper3k) (4.67.1)\n",
            "Requirement already satisfied: charset-normalizer<4,>=2 in /usr/local/lib/python3.11/dist-packages (from requests>=2.10.0->newspaper3k) (3.4.2)\n",
            "Requirement already satisfied: idna<4,>=2.5 in /usr/local/lib/python3.11/dist-packages (from requests>=2.10.0->newspaper3k) (3.10)\n",
            "Requirement already satisfied: urllib3<3,>=1.21.1 in /usr/local/lib/python3.11/dist-packages (from requests>=2.10.0->newspaper3k) (2.4.0)\n",
            "Requirement already satisfied: certifi>=2017.4.17 in /usr/local/lib/python3.11/dist-packages (from requests>=2.10.0->newspaper3k) (2025.6.15)\n",
            "Collecting requests-file>=1.4 (from tldextract>=2.0.1->newspaper3k)\n",
            "  Downloading requests_file-2.1.0-py2.py3-none-any.whl.metadata (1.7 kB)\n",
            "Requirement already satisfied: filelock>=3.0.8 in /usr/local/lib/python3.11/dist-packages (from tldextract>=2.0.1->newspaper3k) (3.18.0)\n",
            "Downloading newspaper3k-0.2.8-py3-none-any.whl (211 kB)\n",
            "\u001b[2K   \u001b[90m━━━━━━━━━━━━━━━━━━━━━━━━━━━━━━━━━━━━━━━━\u001b[0m \u001b[32m211.1/211.1 kB\u001b[0m \u001b[31m13.8 MB/s\u001b[0m eta \u001b[36m0:00:00\u001b[0m\n",
            "\u001b[?25hDownloading cssselect-1.3.0-py3-none-any.whl (18 kB)\n",
            "Downloading feedparser-6.0.11-py3-none-any.whl (81 kB)\n",
            "\u001b[2K   \u001b[90m━━━━━━━━━━━━━━━━━━━━━━━━━━━━━━━━━━━━━━━━\u001b[0m \u001b[32m81.3/81.3 kB\u001b[0m \u001b[31m7.1 MB/s\u001b[0m eta \u001b[36m0:00:00\u001b[0m\n",
            "\u001b[?25hDownloading tldextract-5.3.0-py3-none-any.whl (107 kB)\n",
            "\u001b[2K   \u001b[90m━━━━━━━━━━━━━━━━━━━━━━━━━━━━━━━━━━━━━━━━\u001b[0m \u001b[32m107.4/107.4 kB\u001b[0m \u001b[31m8.7 MB/s\u001b[0m eta \u001b[36m0:00:00\u001b[0m\n",
            "\u001b[?25hDownloading requests_file-2.1.0-py2.py3-none-any.whl (4.2 kB)\n",
            "Building wheels for collected packages: tinysegmenter, feedfinder2, jieba3k, sgmllib3k\n",
            "  Building wheel for tinysegmenter (setup.py) ... \u001b[?25l\u001b[?25hdone\n",
            "  Created wheel for tinysegmenter: filename=tinysegmenter-0.3-py3-none-any.whl size=13540 sha256=94936ab624152d7799a1feb468b9460adb4da6443a57e9b18e5ee2aa7693acb6\n",
            "  Stored in directory: /root/.cache/pip/wheels/fc/ab/f8/cce3a9ae6d828bd346be695f7ff54612cd22b7cbd7208d68f3\n",
            "  Building wheel for feedfinder2 (setup.py) ... \u001b[?25l\u001b[?25hdone\n",
            "  Created wheel for feedfinder2: filename=feedfinder2-0.0.4-py3-none-any.whl size=3341 sha256=d63d2ef20d9c5e632da911ee6daeca126b3199943d6b404e2cb0809870dfdd26\n",
            "  Stored in directory: /root/.cache/pip/wheels/80/d5/72/9cd9eccc819636436c6a6e59c22a0fb1ec167beef141f56491\n",
            "  Building wheel for jieba3k (setup.py) ... \u001b[?25l\u001b[?25hdone\n",
            "  Created wheel for jieba3k: filename=jieba3k-0.35.1-py3-none-any.whl size=7398380 sha256=40c4b5be60fc9714e66c261c340601d7f5eda3745c7a4a43fceb14e3e83ac4f5\n",
            "  Stored in directory: /root/.cache/pip/wheels/3a/a1/46/8e68055c1713f9c4598774c15ad0541f26d5425ee7423b6493\n",
            "  Building wheel for sgmllib3k (setup.py) ... \u001b[?25l\u001b[?25hdone\n",
            "  Created wheel for sgmllib3k: filename=sgmllib3k-1.0.0-py3-none-any.whl size=6046 sha256=9e3257b2fecec57bb68d737ad3130f3494b9f7035b111b9c4f5a95668860bacd\n",
            "  Stored in directory: /root/.cache/pip/wheels/3b/25/2a/105d6a15df6914f4d15047691c6c28f9052cc1173e40285d03\n",
            "Successfully built tinysegmenter feedfinder2 jieba3k sgmllib3k\n",
            "Installing collected packages: tinysegmenter, sgmllib3k, jieba3k, feedparser, cssselect, requests-file, feedfinder2, tldextract, newspaper3k\n",
            "Successfully installed cssselect-1.3.0 feedfinder2-0.0.4 feedparser-6.0.11 jieba3k-0.35.1 newspaper3k-0.2.8 requests-file-2.1.0 sgmllib3k-1.0.0 tinysegmenter-0.3 tldextract-5.3.0\n"
          ]
        }
      ]
    },
    {
      "cell_type": "code",
      "source": [
        "pip install googlesearch-python newspaper3k\n"
      ],
      "metadata": {
        "colab": {
          "base_uri": "https://localhost:8080/"
        },
        "collapsed": true,
        "id": "KwgP-xI94B4D",
        "outputId": "7ceecac8-c015-4e43-98e1-6be771440ff6"
      },
      "execution_count": 3,
      "outputs": [
        {
          "output_type": "stream",
          "name": "stdout",
          "text": [
            "Collecting googlesearch-python\n",
            "  Downloading googlesearch_python-1.3.0-py3-none-any.whl.metadata (3.4 kB)\n",
            "Requirement already satisfied: newspaper3k in /usr/local/lib/python3.11/dist-packages (0.2.8)\n",
            "Requirement already satisfied: beautifulsoup4>=4.9 in /usr/local/lib/python3.11/dist-packages (from googlesearch-python) (4.13.4)\n",
            "Requirement already satisfied: requests>=2.20 in /usr/local/lib/python3.11/dist-packages (from googlesearch-python) (2.32.3)\n",
            "Requirement already satisfied: Pillow>=3.3.0 in /usr/local/lib/python3.11/dist-packages (from newspaper3k) (11.2.1)\n",
            "Requirement already satisfied: PyYAML>=3.11 in /usr/local/lib/python3.11/dist-packages (from newspaper3k) (6.0.2)\n",
            "Requirement already satisfied: cssselect>=0.9.2 in /usr/local/lib/python3.11/dist-packages (from newspaper3k) (1.3.0)\n",
            "Requirement already satisfied: lxml>=3.6.0 in /usr/local/lib/python3.11/dist-packages (from newspaper3k) (5.4.0)\n",
            "Requirement already satisfied: nltk>=3.2.1 in /usr/local/lib/python3.11/dist-packages (from newspaper3k) (3.9.1)\n",
            "Requirement already satisfied: feedparser>=5.2.1 in /usr/local/lib/python3.11/dist-packages (from newspaper3k) (6.0.11)\n",
            "Requirement already satisfied: tldextract>=2.0.1 in /usr/local/lib/python3.11/dist-packages (from newspaper3k) (5.3.0)\n",
            "Requirement already satisfied: feedfinder2>=0.0.4 in /usr/local/lib/python3.11/dist-packages (from newspaper3k) (0.0.4)\n",
            "Requirement already satisfied: jieba3k>=0.35.1 in /usr/local/lib/python3.11/dist-packages (from newspaper3k) (0.35.1)\n",
            "Requirement already satisfied: python-dateutil>=2.5.3 in /usr/local/lib/python3.11/dist-packages (from newspaper3k) (2.9.0.post0)\n",
            "Requirement already satisfied: tinysegmenter==0.3 in /usr/local/lib/python3.11/dist-packages (from newspaper3k) (0.3)\n",
            "Requirement already satisfied: soupsieve>1.2 in /usr/local/lib/python3.11/dist-packages (from beautifulsoup4>=4.9->googlesearch-python) (2.7)\n",
            "Requirement already satisfied: typing-extensions>=4.0.0 in /usr/local/lib/python3.11/dist-packages (from beautifulsoup4>=4.9->googlesearch-python) (4.14.0)\n",
            "Requirement already satisfied: six in /usr/local/lib/python3.11/dist-packages (from feedfinder2>=0.0.4->newspaper3k) (1.17.0)\n",
            "Requirement already satisfied: sgmllib3k in /usr/local/lib/python3.11/dist-packages (from feedparser>=5.2.1->newspaper3k) (1.0.0)\n",
            "Requirement already satisfied: click in /usr/local/lib/python3.11/dist-packages (from nltk>=3.2.1->newspaper3k) (8.2.1)\n",
            "Requirement already satisfied: joblib in /usr/local/lib/python3.11/dist-packages (from nltk>=3.2.1->newspaper3k) (1.5.1)\n",
            "Requirement already satisfied: regex>=2021.8.3 in /usr/local/lib/python3.11/dist-packages (from nltk>=3.2.1->newspaper3k) (2024.11.6)\n",
            "Requirement already satisfied: tqdm in /usr/local/lib/python3.11/dist-packages (from nltk>=3.2.1->newspaper3k) (4.67.1)\n",
            "Requirement already satisfied: charset-normalizer<4,>=2 in /usr/local/lib/python3.11/dist-packages (from requests>=2.20->googlesearch-python) (3.4.2)\n",
            "Requirement already satisfied: idna<4,>=2.5 in /usr/local/lib/python3.11/dist-packages (from requests>=2.20->googlesearch-python) (3.10)\n",
            "Requirement already satisfied: urllib3<3,>=1.21.1 in /usr/local/lib/python3.11/dist-packages (from requests>=2.20->googlesearch-python) (2.4.0)\n",
            "Requirement already satisfied: certifi>=2017.4.17 in /usr/local/lib/python3.11/dist-packages (from requests>=2.20->googlesearch-python) (2025.6.15)\n",
            "Requirement already satisfied: requests-file>=1.4 in /usr/local/lib/python3.11/dist-packages (from tldextract>=2.0.1->newspaper3k) (2.1.0)\n",
            "Requirement already satisfied: filelock>=3.0.8 in /usr/local/lib/python3.11/dist-packages (from tldextract>=2.0.1->newspaper3k) (3.18.0)\n",
            "Downloading googlesearch_python-1.3.0-py3-none-any.whl (5.6 kB)\n",
            "Installing collected packages: googlesearch-python\n",
            "Successfully installed googlesearch-python-1.3.0\n"
          ]
        }
      ]
    },
    {
      "cell_type": "code",
      "source": [
        "pip install lxml_html_clean\n"
      ],
      "metadata": {
        "colab": {
          "base_uri": "https://localhost:8080/"
        },
        "id": "8nD_hul2Ssd2",
        "outputId": "a1f0cecf-251a-4cc0-e87f-a7560bb37fc1"
      },
      "execution_count": 5,
      "outputs": [
        {
          "output_type": "stream",
          "name": "stdout",
          "text": [
            "Collecting lxml_html_clean\n",
            "  Downloading lxml_html_clean-0.4.2-py3-none-any.whl.metadata (2.4 kB)\n",
            "Requirement already satisfied: lxml in /usr/local/lib/python3.11/dist-packages (from lxml_html_clean) (5.4.0)\n",
            "Downloading lxml_html_clean-0.4.2-py3-none-any.whl (14 kB)\n",
            "Installing collected packages: lxml_html_clean\n",
            "Successfully installed lxml_html_clean-0.4.2\n"
          ]
        }
      ]
    },
    {
      "cell_type": "code",
      "source": [
        "from googlesearch import search\n",
        "from newspaper import Article\n",
        "\n",
        "def search_news_by_keyword(keyword, limit=5):\n",
        "    # Limit search to Indian news sources\n",
        "    query = f\"{keyword} site:ndtv.com OR site:indiatoday.in OR site:hindustantimes.com OR site:thehindu.com OR site:timesofindia.indiatimes.com OR site:indianexpress.com OR site:livemint.com OR site:business-standard.com OR site:moneycontrol.com OR site:republicworld.com\"\n",
        "\n",
        "    urls = list(search(query, num_results=limit))\n",
        "    URL = []\n",
        "    articles = []\n",
        "    for url in urls:\n",
        "        try:\n",
        "            article = Article(url)\n",
        "            article.download()\n",
        "            article.parse()\n",
        "            articles.append({\n",
        "                \"title\": article.title,\n",
        "                \"text\": article.text,\n",
        "\n",
        "            })\n",
        "            print(\"Title:\", article.title)\n",
        "            print(\"Text:\", article.text)\n",
        "            print(\"URL:\", url)\n",
        "            URL.append(url)\n",
        "        except Exception as e:\n",
        "            print(\"error\")\n",
        "            continue\n",
        "    return articles , URL\n",
        "\n"
      ],
      "metadata": {
        "id": "FHzzUKKgkJ2i"
      },
      "execution_count": 45,
      "outputs": []
    },
    {
      "cell_type": "code",
      "source": [
        "articles , URL = search_news_by_keyword(\"iran\")\n",
        "content = \"\"\n",
        "for article in articles:\n",
        "  content += article[\"text\"] + \"\\n\\n\"\n",
        "\n"
      ],
      "metadata": {
        "colab": {
          "base_uri": "https://localhost:8080/"
        },
        "id": "BoJKjPU02BJT",
        "outputId": "7de66e9f-fc67-4fd5-f533-e4d60c4257e2"
      },
      "execution_count": 46,
      "outputs": [
        {
          "output_type": "stream",
          "name": "stdout",
          "text": [
            "Title: Iran-Israel War News LIVE: ‘Gambler Trump, we will end it’: Israel issues evacuation order to citizens of Tehran\n",
            "Text: 08:30 (IST) 22 Jun 2025\n",
            "\n",
            "US Israel Iran News LIVE Updates: World leaders react to US strikes on Iran\n",
            "\n",
            "World leaders reacted to US strike on Iran's key nuclear facilities. While some countries praised the move, others condemned it, calling for de-escalation.\n",
            "\n",
            "Israeli Prime Minister Benjamin Netanyahu:\n",
            "\n",
            "Israel's Prime Minister Benjamin Netanyahu, who had urged Trump to join the attack on Iran, congratulated the US president, saying that his bold decision to attack Iran will change history.\n",
            "\n",
            "\"Congratulations, President Trump. Your bold decision to target Iran's nuclear facilities with the awesome and righteous might of the United States will change history... History will record that President Trump acted to deny the world's most dangerous regime the world's most dangerous weapons.\"\n",
            "\n",
            "UN Secretary-General Antonio Guterres:\n",
            "\n",
            "\"I am gravely alarmed by the use of force by the United States against Iran today. This is a dangerous escalation in a region already on the edge – and a direct threat to international peace and security. There is a growing risk that this conflict could rapidly get out of control – with catastrophic consequences for civilians, the region, and the world. I call on Member States to de-escalate and to uphold their obligations under the UN Charter and other rules of international law. At this perilous hour, it is critical to avoid a spiral of chaos. There is no military solution. The only path forward is diplomacy. The only hope is peace.\"\n",
            "\n",
            "Venezuela Foreign Minister Yvan Gil:\n",
            "\n",
            "\"Venezuela Condemns US Military Aggression Against Iran and Demands an Immediate Cessation of Hostilities. The Bolivarian Republic of Venezuela firmly and categorically condemns the bombing carried out by the United States military, at the request of the State of Israel, against nuclear facilities in the Islamic Republic of Iran, including the Fordow, Natanz, and Isfahan complexes.\"\n",
            "\n",
            "Mexico Foreign Ministry:\n",
            "\n",
            "\"The ministry urgently calls for diplomatic dialogue for peace between the parties involved in the Middle East conflict. In keeping with our constitutional principles of foreign policy and our country's pacifist conviction, we reiterate our call to de-escalate tensions in the region. The restoration of peaceful coexistence among the states of the region is the highest priority.\"\n",
            "\n",
            "Cuban President Miguel Díaz-Canel:\n",
            "\n",
            "\"We strongly condemn the US bombing of Iran's nuclear facilities, which constitutes a dangerous escalation of the conflict in the Middle East. The aggression seriously violates the UN Charter and international law and plunges humanity into a crisis with irreversible consequences.\"\n",
            "\n",
            "China:\n",
            "\n",
            "A flash commentary from China's government-run media asked whether the US is \"repeating its Iraq mistake in Iran.\"\n",
            "URL: https://indianexpress.com/article/world/iran-israel-war-live-updates-nuclear-sites-bombs-us-donald-trump-10080761/\n",
            "Title: Israel-Iran conflict LIVE: Israel attacks Iran’s Fordo nuclear site, Tehran’s Evin prison\n",
            "Text: Israel hit Iranian government targets in Tehran on Monday (June 23, 2025) in a series of strikes that followed a salvo of missiles and drones fired by Iran at Israel as fighting between the two foes raged for the 11th day.\n",
            "\n",
            "Israel’s Defence Ministry said it hit targets including the notorious Evin Prison in the Iranian capital and the security headquarters of the paramilitary Revolutionary Guards.\n",
            "\n",
            "Iran’s underground enrichment site at Fordo, which was one of those hit in Sunday’s attack by the U.S. on three nuclear facilities, was also struck again.\n",
            "\n",
            "Also Read | U.S. strikes on Iran nuclear sites used ‘bunker buster’ bombs, cruise missiles\n",
            "\n",
            "Aerial assaults raged between the two foes early Monday (June 23, 2025), while Tehran vowed retaliation over the bunker-buster bombs American warplanes unleashed at the weekend on three nuclear sites.\n",
            "\n",
            "U.S. President Donald Trump insisted the attack had “obliterated” Iran’s nuclear capabilities, but other officials said it was too soon to determine how significantly Tehran’s nuclear programme had been impacted.\n",
            "\n",
            "Also Read | What we know about the nuclear sites that were hit\n",
            "\n",
            "Iran lashed out at the U.S. for crossing “a very big red line” with its risky gambit to launch strikes on three Iranian nuclear sites with missiles and the bunker-buster bombs. Amid fears of a wider regional conflict, the Trump administration sent a clear message that it wanted to restart diplomatic talks with Iran. Defence Secretary Pete Hegseth told reporters that the US “does not seek war” with Iran. But Tehran said the time for diplomacy had passed and that it had the right to defend itself.\n",
            "URL: https://www.thehindu.com/news/international/israel-iran-conflict-live-updates-missile-strike-khamenei-trump-june-23-2025/article69726364.ece\n",
            "error\n",
            "Title: Israel-Iran War Live Updates: Iran armed forces chief vows 'firm action' after US strikes\n",
            "Text: Israel-Iran War Live Updates: Tehran has threatened \"serious\" retaliation for the United States’ recent strikes on its nuclear facilities, even as Israel continued its aerial offensive on Iranian targets for the 11th consecutive day. Explosions were reported across Jerusalem as air raid sirens sounded amid ongoing missile fire from Iran.\n",
            "\n",
            "The Israeli military confirmed it had targeted missile depots and six Iranian airports, destroying several fighter jets and helicopters.\n",
            "\n",
            "U.S. President Donald Trump claimed the use of bunker buster bombs had “obliterated” nuclear sites in Fordow, Isfahan, and Natanz, though independent assessments are still pending.\n",
            "\n",
            "The Israeli military launched a wave of coordinated airstrikes on Iran overnight, targeting key military assets including missile depots and airbases, amid intensifying regional hostilities and growing fears of a wider conflict.\n",
            "\n",
            "Over 15 Israeli Air Force jets hit sites in the western city of Kermanshah, reportedly destroying surface-to-surface missile launch and storage facilities.\n",
            "\n",
            "The operation also targeted six airports across western, central, and eastern Iran, damaging infrastructure and destroying at least 15 Iranian fighter jets and helicopters, including F-14s, F-5s, and AH-1 attack helicopters. Underground hangars and a refueling aircraft were also struck, according to the IDF.\n",
            "\n",
            "Meanwhile, in Washington’s orbit, U.S. President Donald Trump praised the joint strikes as a decisive blow to Iran’s nuclear ambitions.\n",
            "\n",
            "Writing on Truth Social early today, Trump claimed one key facility - described as a “white structure” embedded deep in rock - suffered “monumental damage.” Calling it a “Bullseye!!!” he said, “The biggest damage took place far below ground level.”\n",
            "\n",
            "Back in Tel Aviv, the IDF said missile sirens sounded across parts of Israel amid retaliatory fire from Iran.\n",
            "\n",
            "In Iran, state-affiliated media reported that air defences were activated over Tehran and the nearby city of Karaj in the early hours of Monday, intercepting what were described as “hostile targets.”\n",
            "\n",
            "The escalating conflict, now entering its second week, is taking a mounting human toll. According to the U.S.-based Human Rights Activists group, at least 950 people have been killed in Israel’s air campaign, including 380 civilians and 253 Iranian security personnel. Iran’s Health Ministry, however, has confirmed only 400 deaths and more than 3,000 injuries—figures that critics allege significantly understate the true impact.\n",
            "\n",
            "Meanwhile, global oil markets are reacting sharply to the spiraling crisis. Brent crude rose 2.44% to $78.89 per barrel, while West Texas Intermediate climbed 2.53% to $75.71 amid growing fears of a supply shock, particularly with Iran being a major OPEC producer.\n",
            "\n",
            "With no signs of de-escalation, the world watches as the fallout from this high-stakes confrontation continues to unfold.\n",
            "URL: https://www.moneycontrol.com/world/israel-iran-war-live-updates-us-attacks-iran-nuclear-sites-strait-of-hormuz-ali-khamenei-news-liveblog-13161923.html\n",
            "Title: Here’s how Iran could retaliate after U.S. strikes on its nuclear programme\n",
            "Text: Iran has spent decades building multi-tiered military capabilities at home and across the region that were at least partly aimed at deterring the United States from attacking it. By entering Israel's war, the U.S. may have removed the last rationale for holding them in reserve.\n",
            "\n",
            "That could mean a wave of attacks on U.S. forces in the Middle East, an attempt to close a key bottleneck for global oil supplies or a dash to develop a nuclear weapon with what remains of Iran's disputed programme after American strikes on three key sites.\n",
            "\n",
            "U.S. strikes Iranian nuclear facilities live updates - June 22, 2025\n",
            "\n",
            "A decision to retaliate against the U.S. and its regional allies would give Iran a far larger target bank and one that is much closer than Israel, allowing it to potentially use its missiles and drones to greater effect. The U.S. and Israel have far superior capabilities, but those haven't always proven decisive in America's recent history of military interventions in the region.\n",
            "\n",
            "Ever since Israel started the war with a suprise bombardment of Iran's military and nuclear sites on June 13, Iranian officials from the supreme leader on down have warned the U.S. to stay out, saying it would have dire consequences for the entire region.\n",
            "\n",
            "It should soon be clear whether those were empty threats or a grim forecast.\n",
            "\n",
            "Here's a look at what Iran's next move might be.\n",
            "\n",
            "Targeting the Strait of Hormuz\n",
            "\n",
            "The Strait of Hormuz is the narrow mouth of the Persian Gulf, through which some 20% of all oil traded globally passes, and at its narrowest point it is just 33 kilometers (21 miles) wide. Any disruption there could send oil prices soaring worldwide and hit American pocketbooks.\n",
            "\n",
            "Iran boasts a fleet of fast-attack boats and thousands of naval mines that could potentially make the strait impassable, at least for a time. It could also fire missiles from its long Persian Gulf shore, as its allies, Yemen's Houthi rebels, have done in the Red Sea.\n",
            "\n",
            "The U.S., with its 5th Fleet stationed in nearby Bahrain, has long pledged to uphold freedom of navigation in the strait and would respond with far superior forces. But even a relatively brief firefight could paralyze shipping traffic and spook investors, causing oil prices to spike and generating international pressure for a ceasefire.\n",
            "\n",
            "Attacking US bases and allies in the region\n",
            "\n",
            "The U.S. has tens of thousands of troops stationed in the region, including at permanent bases in Kuwait, Bahrain, Qatar and the United Arab Emirates, Arab Gulf countries just across the Persian Gulf from Iran — and much closer than Israel.\n",
            "\n",
            "Those bases boast the same kinds of sophisticated air defenses as Israel, but would have much less warning time before waves of missiles or swarms of armed drones. And even Israel, which is several hundred kilometers (miles) further away, has been unable to stop all of the incoming fire.\n",
            "\n",
            "Iran could also choose to attack key oil and gas facilities in those countries with the goal of exacting a higher price for U.S. involvement in the war. A drone attack on two major oil sites in Saudi Arabia in 2019 — claimed by the Houthis but widely blamed on Iran — briefly cut the kingdom's oil production in half.\n",
            "\n",
            "Activating regional allies\n",
            "\n",
            "Iran's so-called Axis of Resistance — a network of militant groups across the Middle East, is a shadow of what it was before the war ignited by Hamas' Oct 7, 2023, attack on Israel out of the Gaza Strip — but it still has some formidable capabilities.\n",
            "\n",
            "Israel's 20-month war in Gaza has severely diminished the Palestinian Hamas and Islamic Jihad groups, and Israel mauled Lebanon's Hezbollah last fall, killing most of its top leadership and devastating much of southern Lebanon, making its involvement unlikely.\n",
            "\n",
            "But Iran could still call on the Houthis, who had threatened to resume their attacks in the Red Sea if the US entered the war, and allied militias in Iraq. Both have drone and missile capabilities that would allow them to target the United States and its allies.\n",
            "\n",
            "Iran could also seek to respond through militant attacks further afield, as it is widely accused of doing in the 1990s with an attack on a Jewish community center in Argentina that was blamed on Iran and Hezbollah.\n",
            "\n",
            "A sprint toward nuclear arms\n",
            "\n",
            "It could be days or weeks before the full impact of the U.S. strikes on Iran's nuclear sites is known.\n",
            "\n",
            "But experts have long warned that even joint US and Israeli strikes would only delay Iran's ability to develop a weapon, not eliminate it. That's because Iran has dispersed its programme across the country to several sites, including hardened, underground facilities.\n",
            "\n",
            "Iran would likely struggle to repair or reconstitute its nuclear programme while Israeli and US warplanes are circling overhead. But it could still decide to fully end its cooperation with the International Atomic Energy Agency and abandon the the Nuclear Nonproliferation Treaty.\n",
            "\n",
            "North Korea announced its withdrawal from the treaty in 2003 and tested a nuclear weapon three years later, but it had the freedom to develop its programme without punishing airstrikes.\n",
            "\n",
            "Iran insists its programme is peaceful, though it is the only non-nuclear-armed state to enrich uranium up to 60%, a short, technical step away from weapons-grade levels of 90%. US intelligence agencies and the IAEA assess Iran hasn't had an organized military nuclear programme since 2003.\n",
            "\n",
            "Israel is widely believed to be the only nuclear-armed state in the Middle East but does not acknowledge having such weapons.\n",
            "URL: https://www.thehindu.com/news/international/heres-how-iran-could-retaliate-after-us-strikes-on-its-nuclear-programme/article69723846.ece\n"
          ]
        }
      ]
    },
    {
      "cell_type": "code",
      "source": [
        "content"
      ],
      "metadata": {
        "colab": {
          "base_uri": "https://localhost:8080/",
          "height": 244
        },
        "id": "0sNm__-uTZrm",
        "outputId": "b6182ec3-19d2-46b2-a15d-813264e0e570"
      },
      "execution_count": 47,
      "outputs": [
        {
          "output_type": "execute_result",
          "data": {
            "text/plain": [
              "'08:30 (IST) 22 Jun 2025\\n\\nUS Israel Iran News LIVE Updates: World leaders react to US strikes on Iran\\n\\nWorld leaders reacted to US strike on Iran\\'s key nuclear facilities. While some countries praised the move, others condemned it, calling for de-escalation.\\n\\nIsraeli Prime Minister Benjamin Netanyahu:\\n\\nIsrael\\'s Prime Minister Benjamin Netanyahu, who had urged Trump to join the attack on Iran, congratulated the US president, saying that his bold decision to attack Iran will change history.\\n\\n\"Congratulations, President Trump. Your bold decision to target Iran\\'s nuclear facilities with the awesome and righteous might of the United States will change history... History will record that President Trump acted to deny the world\\'s most dangerous regime the world\\'s most dangerous weapons.\"\\n\\nUN Secretary-General Antonio Guterres:\\n\\n\"I am gravely alarmed by the use of force by the United States against Iran today. This is a dangerous escalation in a region already on the edge – and a direct threat to international peace and security. There is a growing risk that this conflict could rapidly get out of control – with catastrophic consequences for civilians, the region, and the world. I call on Member States to de-escalate and to uphold their obligations under the UN Charter and other rules of international law. At this perilous hour, it is critical to avoid a spiral of chaos. There is no military solution. The only path forward is diplomacy. The only hope is peace.\"\\n\\nVenezuela Foreign Minister Yvan Gil:\\n\\n\"Venezuela Condemns US Military Aggression Against Iran and Demands an Immediate Cessation of Hostilities. The Bolivarian Republic of Venezuela firmly and categorically condemns the bombing carried out by the United States military, at the request of the State of Israel, against nuclear facilities in the Islamic Republic of Iran, including the Fordow, Natanz, and Isfahan complexes.\"\\n\\nMexico Foreign Ministry:\\n\\n\"The ministry urgently calls for diplomatic dialogue for peace between the parties involved in the Middle East conflict. In keeping with our constitutional principles of foreign policy and our country\\'s pacifist conviction, we reiterate our call to de-escalate tensions in the region. The restoration of peaceful coexistence among the states of the region is the highest priority.\"\\n\\nCuban President Miguel Díaz-Canel:\\n\\n\"We strongly condemn the US bombing of Iran\\'s nuclear facilities, which constitutes a dangerous escalation of the conflict in the Middle East. The aggression seriously violates the UN Charter and international law and plunges humanity into a crisis with irreversible consequences.\"\\n\\nChina:\\n\\nA flash commentary from China\\'s government-run media asked whether the US is \"repeating its Iraq mistake in Iran.\"\\n\\nIsrael hit Iranian government targets in Tehran on Monday (June 23, 2025) in a series of strikes that followed a salvo of missiles and drones fired by Iran at Israel as fighting between the two foes raged for the 11th day.\\n\\nIsrael’s Defence Ministry said it hit targets including the notorious Evin Prison in the Iranian capital and the security headquarters of the paramilitary Revolutionary Guards.\\n\\nIran’s underground enrichment site at Fordo, which was one of those hit in Sunday’s attack by the U.S. on three nuclear facilities, was also struck again.\\n\\nAlso Read | U.S. strikes on Iran nuclear sites used ‘bunker buster’ bombs, cruise missiles\\n\\nAerial assaults raged between the two foes early Monday (June 23, 2025), while Tehran vowed retaliation over the bunker-buster bombs American warplanes unleashed at the weekend on three nuclear sites.\\n\\nU.S. President Donald Trump insisted the attack had “obliterated” Iran’s nuclear capabilities, but other officials said it was too soon to determine how significantly Tehran’s nuclear programme had been impacted.\\n\\nAlso Read | What we know about the nuclear sites that were hit\\n\\nIran lashed out at the U.S. for crossing “a very big red line” with its risky gambit to launch strikes on three Iranian nuclear sites with missiles and the bunker-buster bombs. Amid fears of a wider regional conflict, the Trump administration sent a clear message that it wanted to restart diplomatic talks with Iran. Defence Secretary Pete Hegseth told reporters that the US “does not seek war” with Iran. But Tehran said the time for diplomacy had passed and that it had the right to defend itself.\\n\\nIsrael-Iran War Live Updates: Tehran has threatened \"serious\" retaliation for the United States’ recent strikes on its nuclear facilities, even as Israel continued its aerial offensive on Iranian targets for the 11th consecutive day. Explosions were reported across Jerusalem as air raid sirens sounded amid ongoing missile fire from Iran.\\n\\nThe Israeli military confirmed it had targeted missile depots and six Iranian airports, destroying several fighter jets and helicopters.\\n\\nU.S. President Donald Trump claimed the use of bunker buster bombs had “obliterated” nuclear sites in Fordow, Isfahan, and Natanz, though independent assessments are still pending.\\n\\nThe Israeli military launched a wave of coordinated airstrikes on Iran overnight, targeting key military assets including missile depots and airbases, amid intensifying regional hostilities and growing fears of a wider conflict.\\n\\nOver 15 Israeli Air Force jets hit sites in the western city of Kermanshah, reportedly destroying surface-to-surface missile launch and storage facilities.\\n\\nThe operation also targeted six airports across western, central, and eastern Iran, damaging infrastructure and destroying at least 15 Iranian fighter jets and helicopters, including F-14s, F-5s, and AH-1 attack helicopters. Underground hangars and a refueling aircraft were also struck, according to the IDF.\\n\\nMeanwhile, in Washington’s orbit, U.S. President Donald Trump praised the joint strikes as a decisive blow to Iran’s nuclear ambitions.\\n\\nWriting on Truth Social early today, Trump claimed one key facility - described as a “white structure” embedded deep in rock - suffered “monumental damage.” Calling it a “Bullseye!!!” he said, “The biggest damage took place far below ground level.”\\n\\nBack in Tel Aviv, the IDF said missile sirens sounded across parts of Israel amid retaliatory fire from Iran.\\n\\nIn Iran, state-affiliated media reported that air defences were activated over Tehran and the nearby city of Karaj in the early hours of Monday, intercepting what were described as “hostile targets.”\\n\\nThe escalating conflict, now entering its second week, is taking a mounting human toll. According to the U.S.-based Human Rights Activists group, at least 950 people have been killed in Israel’s air campaign, including 380 civilians and 253 Iranian security personnel. Iran’s Health Ministry, however, has confirmed only 400 deaths and more than 3,000 injuries—figures that critics allege significantly understate the true impact.\\n\\nMeanwhile, global oil markets are reacting sharply to the spiraling crisis. Brent crude rose 2.44% to $78.89 per barrel, while West Texas Intermediate climbed 2.53% to $75.71 amid growing fears of a supply shock, particularly with Iran being a major OPEC producer.\\n\\nWith no signs of de-escalation, the world watches as the fallout from this high-stakes confrontation continues to unfold.\\n\\nIran has spent decades building multi-tiered military capabilities at home and across the region that were at least partly aimed at deterring the United States from attacking it. By entering Israel\\'s war, the U.S. may have removed the last rationale for holding them in reserve.\\n\\nThat could mean a wave of attacks on U.S. forces in the Middle East, an attempt to close a key bottleneck for global oil supplies or a dash to develop a nuclear weapon with what remains of Iran\\'s disputed programme after American strikes on three key sites.\\n\\nU.S. strikes Iranian nuclear facilities live updates - June 22, 2025\\n\\nA decision to retaliate against the U.S. and its regional allies would give Iran a far larger target bank and one that is much closer than Israel, allowing it to potentially use its missiles and drones to greater effect. The U.S. and Israel have far superior capabilities, but those haven\\'t always proven decisive in America\\'s recent history of military interventions in the region.\\n\\nEver since Israel started the war with a suprise bombardment of Iran\\'s military and nuclear sites on June 13, Iranian officials from the supreme leader on down have warned the U.S. to stay out, saying it would have dire consequences for the entire region.\\n\\nIt should soon be clear whether those were empty threats or a grim forecast.\\n\\nHere\\'s a look at what Iran\\'s next move might be.\\n\\nTargeting the Strait of Hormuz\\n\\nThe Strait of Hormuz is the narrow mouth of the Persian Gulf, through which some 20% of all oil traded globally passes, and at its narrowest point it is just 33 kilometers (21 miles) wide. Any disruption there could send oil prices soaring worldwide and hit American pocketbooks.\\n\\nIran boasts a fleet of fast-attack boats and thousands of naval mines that could potentially make the strait impassable, at least for a time. It could also fire missiles from its long Persian Gulf shore, as its allies, Yemen\\'s Houthi rebels, have done in the Red Sea.\\n\\nThe U.S., with its 5th Fleet stationed in nearby Bahrain, has long pledged to uphold freedom of navigation in the strait and would respond with far superior forces. But even a relatively brief firefight could paralyze shipping traffic and spook investors, causing oil prices to spike and generating international pressure for a ceasefire.\\n\\nAttacking US bases and allies in the region\\n\\nThe U.S. has tens of thousands of troops stationed in the region, including at permanent bases in Kuwait, Bahrain, Qatar and the United Arab Emirates, Arab Gulf countries just across the Persian Gulf from Iran — and much closer than Israel.\\n\\nThose bases boast the same kinds of sophisticated air defenses as Israel, but would have much less warning time before waves of missiles or swarms of armed drones. And even Israel, which is several hundred kilometers (miles) further away, has been unable to stop all of the incoming fire.\\n\\nIran could also choose to attack key oil and gas facilities in those countries with the goal of exacting a higher price for U.S. involvement in the war. A drone attack on two major oil sites in Saudi Arabia in 2019 — claimed by the Houthis but widely blamed on Iran — briefly cut the kingdom\\'s oil production in half.\\n\\nActivating regional allies\\n\\nIran\\'s so-called Axis of Resistance — a network of militant groups across the Middle East, is a shadow of what it was before the war ignited by Hamas\\' Oct 7, 2023, attack on Israel out of the Gaza Strip — but it still has some formidable capabilities.\\n\\nIsrael\\'s 20-month war in Gaza has severely diminished the Palestinian Hamas and Islamic Jihad groups, and Israel mauled Lebanon\\'s Hezbollah last fall, killing most of its top leadership and devastating much of southern Lebanon, making its involvement unlikely.\\n\\nBut Iran could still call on the Houthis, who had threatened to resume their attacks in the Red Sea if the US entered the war, and allied militias in Iraq. Both have drone and missile capabilities that would allow them to target the United States and its allies.\\n\\nIran could also seek to respond through militant attacks further afield, as it is widely accused of doing in the 1990s with an attack on a Jewish community center in Argentina that was blamed on Iran and Hezbollah.\\n\\nA sprint toward nuclear arms\\n\\nIt could be days or weeks before the full impact of the U.S. strikes on Iran\\'s nuclear sites is known.\\n\\nBut experts have long warned that even joint US and Israeli strikes would only delay Iran\\'s ability to develop a weapon, not eliminate it. That\\'s because Iran has dispersed its programme across the country to several sites, including hardened, underground facilities.\\n\\nIran would likely struggle to repair or reconstitute its nuclear programme while Israeli and US warplanes are circling overhead. But it could still decide to fully end its cooperation with the International Atomic Energy Agency and abandon the the Nuclear Nonproliferation Treaty.\\n\\nNorth Korea announced its withdrawal from the treaty in 2003 and tested a nuclear weapon three years later, but it had the freedom to develop its programme without punishing airstrikes.\\n\\nIran insists its programme is peaceful, though it is the only non-nuclear-armed state to enrich uranium up to 60%, a short, technical step away from weapons-grade levels of 90%. US intelligence agencies and the IAEA assess Iran hasn\\'t had an organized military nuclear programme since 2003.\\n\\nIsrael is widely believed to be the only nuclear-armed state in the Middle East but does not acknowledge having such weapons.\\n\\n'"
            ],
            "application/vnd.google.colaboratory.intrinsic+json": {
              "type": "string"
            }
          },
          "metadata": {},
          "execution_count": 47
        }
      ]
    },
    {
      "cell_type": "code",
      "source": [
        "!pip install -q langchain_community"
      ],
      "metadata": {
        "colab": {
          "base_uri": "https://localhost:8080/"
        },
        "id": "ORmpg4K4EFQH",
        "outputId": "46f935b1-eee5-4427-d862-7d70abd2f45e"
      },
      "execution_count": 8,
      "outputs": [
        {
          "output_type": "stream",
          "name": "stdout",
          "text": [
            "\u001b[?25l   \u001b[90m━━━━━━━━━━━━━━━━━━━━━━━━━━━━━━━━━━━━━━━━\u001b[0m \u001b[32m0.0/2.5 MB\u001b[0m \u001b[31m?\u001b[0m eta \u001b[36m-:--:--\u001b[0m\r\u001b[2K   \u001b[91m━━━━━━━━━━━━━━━━━━━━━━━━━━━━━━━━━━━━\u001b[0m\u001b[90m╺\u001b[0m\u001b[90m━━━\u001b[0m \u001b[32m2.3/2.5 MB\u001b[0m \u001b[31m66.6 MB/s\u001b[0m eta \u001b[36m0:00:01\u001b[0m\r\u001b[2K   \u001b[90m━━━━━━━━━━━━━━━━━━━━━━━━━━━━━━━━━━━━━━━━\u001b[0m \u001b[32m2.5/2.5 MB\u001b[0m \u001b[31m39.2 MB/s\u001b[0m eta \u001b[36m0:00:00\u001b[0m\n",
            "\u001b[?25h\u001b[?25l   \u001b[90m━━━━━━━━━━━━━━━━━━━━━━━━━━━━━━━━━━━━━━━━\u001b[0m \u001b[32m0.0/1.0 MB\u001b[0m \u001b[31m?\u001b[0m eta \u001b[36m-:--:--\u001b[0m\r\u001b[2K   \u001b[90m━━━━━━━━━━━━━━━━━━━━━━━━━━━━━━━━━━━━━━━━\u001b[0m \u001b[32m1.0/1.0 MB\u001b[0m \u001b[31m43.5 MB/s\u001b[0m eta \u001b[36m0:00:00\u001b[0m\n",
            "\u001b[?25h\u001b[?25l   \u001b[90m━━━━━━━━━━━━━━━━━━━━━━━━━━━━━━━━━━━━━━━━\u001b[0m \u001b[32m0.0/438.9 kB\u001b[0m \u001b[31m?\u001b[0m eta \u001b[36m-:--:--\u001b[0m\r\u001b[2K   \u001b[90m━━━━━━━━━━━━━━━━━━━━━━━━━━━━━━━━━━━━━━━━\u001b[0m \u001b[32m438.9/438.9 kB\u001b[0m \u001b[31m24.6 MB/s\u001b[0m eta \u001b[36m0:00:00\u001b[0m\n",
            "\u001b[2K   \u001b[90m━━━━━━━━━━━━━━━━━━━━━━━━━━━━━━━━━━━━━━━━\u001b[0m \u001b[32m45.2/45.2 kB\u001b[0m \u001b[31m2.8 MB/s\u001b[0m eta \u001b[36m0:00:00\u001b[0m\n",
            "\u001b[2K   \u001b[90m━━━━━━━━━━━━━━━━━━━━━━━━━━━━━━━━━━━━━━━━\u001b[0m \u001b[32m50.9/50.9 kB\u001b[0m \u001b[31m3.3 MB/s\u001b[0m eta \u001b[36m0:00:00\u001b[0m\n",
            "\u001b[?25h"
          ]
        }
      ]
    },
    {
      "cell_type": "code",
      "source": [
        "!pip install -q langchain-core"
      ],
      "metadata": {
        "id": "xioahbNeEHBR"
      },
      "execution_count": 9,
      "outputs": []
    },
    {
      "cell_type": "code",
      "source": [
        "from posixpath import sep\n",
        "from langchain.text_splitter import CharacterTextSplitter\n",
        "text_splitter = CharacterTextSplitter(\n",
        "    separator = \"\\n\",\n",
        "    chunk_size = 500,\n",
        "    chunk_overlap  = 100,\n",
        "    length_function = lambda x: len(x.split()),\n",
        ")\n",
        "texts = text_splitter.split_text(content)"
      ],
      "metadata": {
        "id": "smD11RgeCFd1"
      },
      "execution_count": 48,
      "outputs": []
    },
    {
      "cell_type": "code",
      "source": [
        "len(texts)"
      ],
      "metadata": {
        "colab": {
          "base_uri": "https://localhost:8080/"
        },
        "id": "pQvMWRMaEtwi",
        "outputId": "4fae3c3f-bd27-4d96-9bab-73ce3a2fca06"
      },
      "execution_count": 64,
      "outputs": [
        {
          "output_type": "execute_result",
          "data": {
            "text/plain": [
              "5"
            ]
          },
          "metadata": {},
          "execution_count": 64
        }
      ]
    },
    {
      "cell_type": "code",
      "source": [
        "!pip install -q langchain_huggingface"
      ],
      "metadata": {
        "id": "MU3PVKbzFOvm"
      },
      "execution_count": 12,
      "outputs": []
    },
    {
      "cell_type": "code",
      "source": [
        "from langchain_huggingface import HuggingFaceEmbeddings"
      ],
      "metadata": {
        "id": "cgTCrTDvEvQP"
      },
      "execution_count": 50,
      "outputs": []
    },
    {
      "cell_type": "code",
      "source": [
        "embeddings = HuggingFaceEmbeddings(model_name=\"BAAI/bge-base-en-v1.5\")\n"
      ],
      "metadata": {
        "id": "blKPjA07FOBw"
      },
      "execution_count": 51,
      "outputs": []
    },
    {
      "cell_type": "code",
      "source": [
        "v1 = embeddings.embed_query(texts[0])"
      ],
      "metadata": {
        "id": "ArqDjdnjFbL9"
      },
      "execution_count": 15,
      "outputs": []
    },
    {
      "cell_type": "code",
      "source": [
        "len(v1)"
      ],
      "metadata": {
        "colab": {
          "base_uri": "https://localhost:8080/"
        },
        "id": "d_hSlAgJFxIL",
        "outputId": "32d90962-f68d-4c20-dd46-a75a6239bc3d"
      },
      "execution_count": 52,
      "outputs": [
        {
          "output_type": "execute_result",
          "data": {
            "text/plain": [
              "768"
            ]
          },
          "metadata": {},
          "execution_count": 52
        }
      ]
    },
    {
      "cell_type": "code",
      "source": [
        "import faiss\n",
        "from langchain_community.docstore.in_memory import InMemoryDocstore\n",
        "from langchain_community.vectorstores import FAISS\n",
        "\n",
        "dim = len(embeddings.embed_query(\"hello\"))\n",
        "index = faiss.IndexFlatL2(dim)\n",
        "vector_Store = FAISS(\n",
        "    embedding_function=embeddings,\n",
        "    index=index,\n",
        "    docstore=InMemoryDocstore({}),\n",
        "    index_to_docstore_id={},\n",
        ")"
      ],
      "metadata": {
        "id": "vKQnlYdIF1Z5"
      },
      "execution_count": 53,
      "outputs": []
    },
    {
      "cell_type": "code",
      "source": [
        "ids = vector_Store.add_texts(texts)"
      ],
      "metadata": {
        "id": "V4VSLy8vGBP4"
      },
      "execution_count": 54,
      "outputs": []
    },
    {
      "cell_type": "code",
      "source": [
        "ids"
      ],
      "metadata": {
        "colab": {
          "base_uri": "https://localhost:8080/"
        },
        "id": "nc__sRepGVQG",
        "outputId": "88dc0069-e2c3-4541-8403-fbbaed9f5eef"
      },
      "execution_count": 55,
      "outputs": [
        {
          "output_type": "execute_result",
          "data": {
            "text/plain": [
              "['5ea8e6b2-636b-4bb8-8f43-9411a38994d8',\n",
              " 'e1b6522e-932c-4db3-bedc-93212dc60d5e',\n",
              " '0280d7e6-d83c-49d5-b868-ab3b2f6d0065',\n",
              " '67d3defd-68a9-4058-9c89-1d624cb9e667',\n",
              " 'b5046db9-8225-4f03-b335-699c099bc521']"
            ]
          },
          "metadata": {},
          "execution_count": 55
        }
      ]
    },
    {
      "cell_type": "code",
      "source": [
        "query = \"Iran plans to attack US\"\n",
        "results = vector_Store.similarity_search(query)\n",
        "results"
      ],
      "metadata": {
        "colab": {
          "base_uri": "https://localhost:8080/"
        },
        "id": "Zm8NymodGVxS",
        "outputId": "1cd9420c-304d-49e3-d9bd-58a5ed007d66",
        "collapsed": true
      },
      "execution_count": 57,
      "outputs": [
        {
          "output_type": "execute_result",
          "data": {
            "text/plain": [
              "[Document(id='67d3defd-68a9-4058-9c89-1d624cb9e667', metadata={}, page_content=\"U.S. strikes Iranian nuclear facilities live updates - June 22, 2025\\nA decision to retaliate against the U.S. and its regional allies would give Iran a far larger target bank and one that is much closer than Israel, allowing it to potentially use its missiles and drones to greater effect. The U.S. and Israel have far superior capabilities, but those haven't always proven decisive in America's recent history of military interventions in the region.\\nEver since Israel started the war with a suprise bombardment of Iran's military and nuclear sites on June 13, Iranian officials from the supreme leader on down have warned the U.S. to stay out, saying it would have dire consequences for the entire region.\\nIt should soon be clear whether those were empty threats or a grim forecast.\\nHere's a look at what Iran's next move might be.\\nTargeting the Strait of Hormuz\\nThe Strait of Hormuz is the narrow mouth of the Persian Gulf, through which some 20% of all oil traded globally passes, and at its narrowest point it is just 33 kilometers (21 miles) wide. Any disruption there could send oil prices soaring worldwide and hit American pocketbooks.\\nIran boasts a fleet of fast-attack boats and thousands of naval mines that could potentially make the strait impassable, at least for a time. It could also fire missiles from its long Persian Gulf shore, as its allies, Yemen's Houthi rebels, have done in the Red Sea.\\nThe U.S., with its 5th Fleet stationed in nearby Bahrain, has long pledged to uphold freedom of navigation in the strait and would respond with far superior forces. But even a relatively brief firefight could paralyze shipping traffic and spook investors, causing oil prices to spike and generating international pressure for a ceasefire.\\nAttacking US bases and allies in the region\\nThe U.S. has tens of thousands of troops stationed in the region, including at permanent bases in Kuwait, Bahrain, Qatar and the United Arab Emirates, Arab Gulf countries just across the Persian Gulf from Iran — and much closer than Israel.\\nThose bases boast the same kinds of sophisticated air defenses as Israel, but would have much less warning time before waves of missiles or swarms of armed drones. And even Israel, which is several hundred kilometers (miles) further away, has been unable to stop all of the incoming fire.\\nIran could also choose to attack key oil and gas facilities in those countries with the goal of exacting a higher price for U.S. involvement in the war. A drone attack on two major oil sites in Saudi Arabia in 2019 — claimed by the Houthis but widely blamed on Iran — briefly cut the kingdom's oil production in half.\\nActivating regional allies\"),\n",
              " Document(id='e1b6522e-932c-4db3-bedc-93212dc60d5e', metadata={}, page_content='China:\\nA flash commentary from China\\'s government-run media asked whether the US is \"repeating its Iraq mistake in Iran.\"\\nIsrael hit Iranian government targets in Tehran on Monday (June 23, 2025) in a series of strikes that followed a salvo of missiles and drones fired by Iran at Israel as fighting between the two foes raged for the 11th day.\\nIsrael’s Defence Ministry said it hit targets including the notorious Evin Prison in the Iranian capital and the security headquarters of the paramilitary Revolutionary Guards.\\nIran’s underground enrichment site at Fordo, which was one of those hit in Sunday’s attack by the U.S. on three nuclear facilities, was also struck again.\\nAlso Read | U.S. strikes on Iran nuclear sites used ‘bunker buster’ bombs, cruise missiles\\nAerial assaults raged between the two foes early Monday (June 23, 2025), while Tehran vowed retaliation over the bunker-buster bombs American warplanes unleashed at the weekend on three nuclear sites.\\nU.S. President Donald Trump insisted the attack had “obliterated” Iran’s nuclear capabilities, but other officials said it was too soon to determine how significantly Tehran’s nuclear programme had been impacted.\\nAlso Read | What we know about the nuclear sites that were hit\\nIran lashed out at the U.S. for crossing “a very big red line” with its risky gambit to launch strikes on three Iranian nuclear sites with missiles and the bunker-buster bombs. Amid fears of a wider regional conflict, the Trump administration sent a clear message that it wanted to restart diplomatic talks with Iran. Defence Secretary Pete Hegseth told reporters that the US “does not seek war” with Iran. But Tehran said the time for diplomacy had passed and that it had the right to defend itself.\\nIsrael-Iran War Live Updates: Tehran has threatened \"serious\" retaliation for the United States’ recent strikes on its nuclear facilities, even as Israel continued its aerial offensive on Iranian targets for the 11th consecutive day. Explosions were reported across Jerusalem as air raid sirens sounded amid ongoing missile fire from Iran.\\nThe Israeli military confirmed it had targeted missile depots and six Iranian airports, destroying several fighter jets and helicopters.\\nU.S. President Donald Trump claimed the use of bunker buster bombs had “obliterated” nuclear sites in Fordow, Isfahan, and Natanz, though independent assessments are still pending.\\nThe Israeli military launched a wave of coordinated airstrikes on Iran overnight, targeting key military assets including missile depots and airbases, amid intensifying regional hostilities and growing fears of a wider conflict.\\nOver 15 Israeli Air Force jets hit sites in the western city of Kermanshah, reportedly destroying surface-to-surface missile launch and storage facilities.\\nThe operation also targeted six airports across western, central, and eastern Iran, damaging infrastructure and destroying at least 15 Iranian fighter jets and helicopters, including F-14s, F-5s, and AH-1 attack helicopters. Underground hangars and a refueling aircraft were also struck, according to the IDF.\\nMeanwhile, in Washington’s orbit, U.S. President Donald Trump praised the joint strikes as a decisive blow to Iran’s nuclear ambitions.'),\n",
              " Document(id='5ea8e6b2-636b-4bb8-8f43-9411a38994d8', metadata={}, page_content='08:30 (IST) 22 Jun 2025\\nUS Israel Iran News LIVE Updates: World leaders react to US strikes on Iran\\nWorld leaders reacted to US strike on Iran\\'s key nuclear facilities. While some countries praised the move, others condemned it, calling for de-escalation.\\nIsraeli Prime Minister Benjamin Netanyahu:\\nIsrael\\'s Prime Minister Benjamin Netanyahu, who had urged Trump to join the attack on Iran, congratulated the US president, saying that his bold decision to attack Iran will change history.\\n\"Congratulations, President Trump. Your bold decision to target Iran\\'s nuclear facilities with the awesome and righteous might of the United States will change history... History will record that President Trump acted to deny the world\\'s most dangerous regime the world\\'s most dangerous weapons.\"\\nUN Secretary-General Antonio Guterres:\\n\"I am gravely alarmed by the use of force by the United States against Iran today. This is a dangerous escalation in a region already on the edge – and a direct threat to international peace and security. There is a growing risk that this conflict could rapidly get out of control – with catastrophic consequences for civilians, the region, and the world. I call on Member States to de-escalate and to uphold their obligations under the UN Charter and other rules of international law. At this perilous hour, it is critical to avoid a spiral of chaos. There is no military solution. The only path forward is diplomacy. The only hope is peace.\"\\nVenezuela Foreign Minister Yvan Gil:\\n\"Venezuela Condemns US Military Aggression Against Iran and Demands an Immediate Cessation of Hostilities. The Bolivarian Republic of Venezuela firmly and categorically condemns the bombing carried out by the United States military, at the request of the State of Israel, against nuclear facilities in the Islamic Republic of Iran, including the Fordow, Natanz, and Isfahan complexes.\"\\nMexico Foreign Ministry:\\n\"The ministry urgently calls for diplomatic dialogue for peace between the parties involved in the Middle East conflict. In keeping with our constitutional principles of foreign policy and our country\\'s pacifist conviction, we reiterate our call to de-escalate tensions in the region. The restoration of peaceful coexistence among the states of the region is the highest priority.\"\\nCuban President Miguel Díaz-Canel:\\n\"We strongly condemn the US bombing of Iran\\'s nuclear facilities, which constitutes a dangerous escalation of the conflict in the Middle East. The aggression seriously violates the UN Charter and international law and plunges humanity into a crisis with irreversible consequences.\"\\nChina:\\nA flash commentary from China\\'s government-run media asked whether the US is \"repeating its Iraq mistake in Iran.\"\\nIsrael hit Iranian government targets in Tehran on Monday (June 23, 2025) in a series of strikes that followed a salvo of missiles and drones fired by Iran at Israel as fighting between the two foes raged for the 11th day.\\nIsrael’s Defence Ministry said it hit targets including the notorious Evin Prison in the Iranian capital and the security headquarters of the paramilitary Revolutionary Guards.'),\n",
              " Document(id='b5046db9-8225-4f03-b335-699c099bc521', metadata={}, page_content=\"Iran could also choose to attack key oil and gas facilities in those countries with the goal of exacting a higher price for U.S. involvement in the war. A drone attack on two major oil sites in Saudi Arabia in 2019 — claimed by the Houthis but widely blamed on Iran — briefly cut the kingdom's oil production in half.\\nActivating regional allies\\nIran's so-called Axis of Resistance — a network of militant groups across the Middle East, is a shadow of what it was before the war ignited by Hamas' Oct 7, 2023, attack on Israel out of the Gaza Strip — but it still has some formidable capabilities.\\nIsrael's 20-month war in Gaza has severely diminished the Palestinian Hamas and Islamic Jihad groups, and Israel mauled Lebanon's Hezbollah last fall, killing most of its top leadership and devastating much of southern Lebanon, making its involvement unlikely.\\nBut Iran could still call on the Houthis, who had threatened to resume their attacks in the Red Sea if the US entered the war, and allied militias in Iraq. Both have drone and missile capabilities that would allow them to target the United States and its allies.\\nIran could also seek to respond through militant attacks further afield, as it is widely accused of doing in the 1990s with an attack on a Jewish community center in Argentina that was blamed on Iran and Hezbollah.\\nA sprint toward nuclear arms\\nIt could be days or weeks before the full impact of the U.S. strikes on Iran's nuclear sites is known.\\nBut experts have long warned that even joint US and Israeli strikes would only delay Iran's ability to develop a weapon, not eliminate it. That's because Iran has dispersed its programme across the country to several sites, including hardened, underground facilities.\\nIran would likely struggle to repair or reconstitute its nuclear programme while Israeli and US warplanes are circling overhead. But it could still decide to fully end its cooperation with the International Atomic Energy Agency and abandon the the Nuclear Nonproliferation Treaty.\\nNorth Korea announced its withdrawal from the treaty in 2003 and tested a nuclear weapon three years later, but it had the freedom to develop its programme without punishing airstrikes.\\nIran insists its programme is peaceful, though it is the only non-nuclear-armed state to enrich uranium up to 60%, a short, technical step away from weapons-grade levels of 90%. US intelligence agencies and the IAEA assess Iran hasn't had an organized military nuclear programme since 2003.\\nIsrael is widely believed to be the only nuclear-armed state in the Middle East but does not acknowledge having such weapons.\")]"
            ]
          },
          "metadata": {},
          "execution_count": 57
        }
      ]
    },
    {
      "cell_type": "code",
      "source": [
        "from transformers import pipeline\n",
        "from langchain.llms import HuggingFacePipeline\n",
        "\n",
        "pipe = pipeline(\n",
        "    \"text2text-generation\",\n",
        "    model=\"google/flan-t5-base\",\n",
        "    tokenizer=\"google/flan-t5-base\",\n",
        "    max_new_tokens=512,\n",
        "    do_sample=False,\n",
        "    device=0\n",
        ")\n",
        "llm = HuggingFacePipeline(pipeline=pipe)\n"
      ],
      "metadata": {
        "colab": {
          "base_uri": "https://localhost:8080/"
        },
        "id": "f54_ta45XDdh",
        "outputId": "942718b0-7081-4c8a-f4da-f3f419f01f8c"
      },
      "execution_count": 69,
      "outputs": [
        {
          "output_type": "stream",
          "name": "stderr",
          "text": [
            "Device set to use cpu\n"
          ]
        }
      ]
    },
    {
      "cell_type": "code",
      "source": [
        "from langchain.chains import RetrievalQA\n",
        "\n",
        "rag_chain = RetrievalQA.from_chain_type(\n",
        "    llm=llm,                         # Your HuggingFacePipeline wrapper\n",
        "    retriever=vector_Store.as_retriever(search_kwargs={\"k\":1}),            # vectorstore.as_retriever()\n",
        "    return_source_documents=True,   # Optional: show context\n",
        "    chain_type=\"stuff\"              # For now, simple prompt-based\n",
        ")\n"
      ],
      "metadata": {
        "id": "2Bx126biXp7G"
      },
      "execution_count": 70,
      "outputs": []
    },
    {
      "cell_type": "code",
      "source": [
        "from langchain.schema import Document\n",
        "docs = [Document(page_content=t) for t in texts]"
      ],
      "metadata": {
        "id": "-veQ3DuqbzsD"
      },
      "execution_count": 71,
      "outputs": []
    },
    {
      "cell_type": "code",
      "source": [
        "docs"
      ],
      "metadata": {
        "colab": {
          "base_uri": "https://localhost:8080/"
        },
        "collapsed": true,
        "id": "lWBb9k5sep4R",
        "outputId": "2f417436-1aef-4aa6-ca71-80996202fda6"
      },
      "execution_count": 72,
      "outputs": [
        {
          "output_type": "execute_result",
          "data": {
            "text/plain": [
              "[Document(metadata={}, page_content='08:30 (IST) 22 Jun 2025\\nUS Israel Iran News LIVE Updates: World leaders react to US strikes on Iran\\nWorld leaders reacted to US strike on Iran\\'s key nuclear facilities. While some countries praised the move, others condemned it, calling for de-escalation.\\nIsraeli Prime Minister Benjamin Netanyahu:\\nIsrael\\'s Prime Minister Benjamin Netanyahu, who had urged Trump to join the attack on Iran, congratulated the US president, saying that his bold decision to attack Iran will change history.\\n\"Congratulations, President Trump. Your bold decision to target Iran\\'s nuclear facilities with the awesome and righteous might of the United States will change history... History will record that President Trump acted to deny the world\\'s most dangerous regime the world\\'s most dangerous weapons.\"\\nUN Secretary-General Antonio Guterres:\\n\"I am gravely alarmed by the use of force by the United States against Iran today. This is a dangerous escalation in a region already on the edge – and a direct threat to international peace and security. There is a growing risk that this conflict could rapidly get out of control – with catastrophic consequences for civilians, the region, and the world. I call on Member States to de-escalate and to uphold their obligations under the UN Charter and other rules of international law. At this perilous hour, it is critical to avoid a spiral of chaos. There is no military solution. The only path forward is diplomacy. The only hope is peace.\"\\nVenezuela Foreign Minister Yvan Gil:\\n\"Venezuela Condemns US Military Aggression Against Iran and Demands an Immediate Cessation of Hostilities. The Bolivarian Republic of Venezuela firmly and categorically condemns the bombing carried out by the United States military, at the request of the State of Israel, against nuclear facilities in the Islamic Republic of Iran, including the Fordow, Natanz, and Isfahan complexes.\"\\nMexico Foreign Ministry:\\n\"The ministry urgently calls for diplomatic dialogue for peace between the parties involved in the Middle East conflict. In keeping with our constitutional principles of foreign policy and our country\\'s pacifist conviction, we reiterate our call to de-escalate tensions in the region. The restoration of peaceful coexistence among the states of the region is the highest priority.\"\\nCuban President Miguel Díaz-Canel:\\n\"We strongly condemn the US bombing of Iran\\'s nuclear facilities, which constitutes a dangerous escalation of the conflict in the Middle East. The aggression seriously violates the UN Charter and international law and plunges humanity into a crisis with irreversible consequences.\"\\nChina:\\nA flash commentary from China\\'s government-run media asked whether the US is \"repeating its Iraq mistake in Iran.\"\\nIsrael hit Iranian government targets in Tehran on Monday (June 23, 2025) in a series of strikes that followed a salvo of missiles and drones fired by Iran at Israel as fighting between the two foes raged for the 11th day.\\nIsrael’s Defence Ministry said it hit targets including the notorious Evin Prison in the Iranian capital and the security headquarters of the paramilitary Revolutionary Guards.'),\n",
              " Document(metadata={}, page_content='China:\\nA flash commentary from China\\'s government-run media asked whether the US is \"repeating its Iraq mistake in Iran.\"\\nIsrael hit Iranian government targets in Tehran on Monday (June 23, 2025) in a series of strikes that followed a salvo of missiles and drones fired by Iran at Israel as fighting between the two foes raged for the 11th day.\\nIsrael’s Defence Ministry said it hit targets including the notorious Evin Prison in the Iranian capital and the security headquarters of the paramilitary Revolutionary Guards.\\nIran’s underground enrichment site at Fordo, which was one of those hit in Sunday’s attack by the U.S. on three nuclear facilities, was also struck again.\\nAlso Read | U.S. strikes on Iran nuclear sites used ‘bunker buster’ bombs, cruise missiles\\nAerial assaults raged between the two foes early Monday (June 23, 2025), while Tehran vowed retaliation over the bunker-buster bombs American warplanes unleashed at the weekend on three nuclear sites.\\nU.S. President Donald Trump insisted the attack had “obliterated” Iran’s nuclear capabilities, but other officials said it was too soon to determine how significantly Tehran’s nuclear programme had been impacted.\\nAlso Read | What we know about the nuclear sites that were hit\\nIran lashed out at the U.S. for crossing “a very big red line” with its risky gambit to launch strikes on three Iranian nuclear sites with missiles and the bunker-buster bombs. Amid fears of a wider regional conflict, the Trump administration sent a clear message that it wanted to restart diplomatic talks with Iran. Defence Secretary Pete Hegseth told reporters that the US “does not seek war” with Iran. But Tehran said the time for diplomacy had passed and that it had the right to defend itself.\\nIsrael-Iran War Live Updates: Tehran has threatened \"serious\" retaliation for the United States’ recent strikes on its nuclear facilities, even as Israel continued its aerial offensive on Iranian targets for the 11th consecutive day. Explosions were reported across Jerusalem as air raid sirens sounded amid ongoing missile fire from Iran.\\nThe Israeli military confirmed it had targeted missile depots and six Iranian airports, destroying several fighter jets and helicopters.\\nU.S. President Donald Trump claimed the use of bunker buster bombs had “obliterated” nuclear sites in Fordow, Isfahan, and Natanz, though independent assessments are still pending.\\nThe Israeli military launched a wave of coordinated airstrikes on Iran overnight, targeting key military assets including missile depots and airbases, amid intensifying regional hostilities and growing fears of a wider conflict.\\nOver 15 Israeli Air Force jets hit sites in the western city of Kermanshah, reportedly destroying surface-to-surface missile launch and storage facilities.\\nThe operation also targeted six airports across western, central, and eastern Iran, damaging infrastructure and destroying at least 15 Iranian fighter jets and helicopters, including F-14s, F-5s, and AH-1 attack helicopters. Underground hangars and a refueling aircraft were also struck, according to the IDF.\\nMeanwhile, in Washington’s orbit, U.S. President Donald Trump praised the joint strikes as a decisive blow to Iran’s nuclear ambitions.'),\n",
              " Document(metadata={}, page_content=\"Over 15 Israeli Air Force jets hit sites in the western city of Kermanshah, reportedly destroying surface-to-surface missile launch and storage facilities.\\nThe operation also targeted six airports across western, central, and eastern Iran, damaging infrastructure and destroying at least 15 Iranian fighter jets and helicopters, including F-14s, F-5s, and AH-1 attack helicopters. Underground hangars and a refueling aircraft were also struck, according to the IDF.\\nMeanwhile, in Washington’s orbit, U.S. President Donald Trump praised the joint strikes as a decisive blow to Iran’s nuclear ambitions.\\nWriting on Truth Social early today, Trump claimed one key facility - described as a “white structure” embedded deep in rock - suffered “monumental damage.” Calling it a “Bullseye!!!” he said, “The biggest damage took place far below ground level.”\\nBack in Tel Aviv, the IDF said missile sirens sounded across parts of Israel amid retaliatory fire from Iran.\\nIn Iran, state-affiliated media reported that air defences were activated over Tehran and the nearby city of Karaj in the early hours of Monday, intercepting what were described as “hostile targets.”\\nThe escalating conflict, now entering its second week, is taking a mounting human toll. According to the U.S.-based Human Rights Activists group, at least 950 people have been killed in Israel’s air campaign, including 380 civilians and 253 Iranian security personnel. Iran’s Health Ministry, however, has confirmed only 400 deaths and more than 3,000 injuries—figures that critics allege significantly understate the true impact.\\nMeanwhile, global oil markets are reacting sharply to the spiraling crisis. Brent crude rose 2.44% to $78.89 per barrel, while West Texas Intermediate climbed 2.53% to $75.71 amid growing fears of a supply shock, particularly with Iran being a major OPEC producer.\\nWith no signs of de-escalation, the world watches as the fallout from this high-stakes confrontation continues to unfold.\\nIran has spent decades building multi-tiered military capabilities at home and across the region that were at least partly aimed at deterring the United States from attacking it. By entering Israel's war, the U.S. may have removed the last rationale for holding them in reserve.\\nThat could mean a wave of attacks on U.S. forces in the Middle East, an attempt to close a key bottleneck for global oil supplies or a dash to develop a nuclear weapon with what remains of Iran's disputed programme after American strikes on three key sites.\\nU.S. strikes Iranian nuclear facilities live updates - June 22, 2025\\nA decision to retaliate against the U.S. and its regional allies would give Iran a far larger target bank and one that is much closer than Israel, allowing it to potentially use its missiles and drones to greater effect. The U.S. and Israel have far superior capabilities, but those haven't always proven decisive in America's recent history of military interventions in the region.\"),\n",
              " Document(metadata={}, page_content=\"U.S. strikes Iranian nuclear facilities live updates - June 22, 2025\\nA decision to retaliate against the U.S. and its regional allies would give Iran a far larger target bank and one that is much closer than Israel, allowing it to potentially use its missiles and drones to greater effect. The U.S. and Israel have far superior capabilities, but those haven't always proven decisive in America's recent history of military interventions in the region.\\nEver since Israel started the war with a suprise bombardment of Iran's military and nuclear sites on June 13, Iranian officials from the supreme leader on down have warned the U.S. to stay out, saying it would have dire consequences for the entire region.\\nIt should soon be clear whether those were empty threats or a grim forecast.\\nHere's a look at what Iran's next move might be.\\nTargeting the Strait of Hormuz\\nThe Strait of Hormuz is the narrow mouth of the Persian Gulf, through which some 20% of all oil traded globally passes, and at its narrowest point it is just 33 kilometers (21 miles) wide. Any disruption there could send oil prices soaring worldwide and hit American pocketbooks.\\nIran boasts a fleet of fast-attack boats and thousands of naval mines that could potentially make the strait impassable, at least for a time. It could also fire missiles from its long Persian Gulf shore, as its allies, Yemen's Houthi rebels, have done in the Red Sea.\\nThe U.S., with its 5th Fleet stationed in nearby Bahrain, has long pledged to uphold freedom of navigation in the strait and would respond with far superior forces. But even a relatively brief firefight could paralyze shipping traffic and spook investors, causing oil prices to spike and generating international pressure for a ceasefire.\\nAttacking US bases and allies in the region\\nThe U.S. has tens of thousands of troops stationed in the region, including at permanent bases in Kuwait, Bahrain, Qatar and the United Arab Emirates, Arab Gulf countries just across the Persian Gulf from Iran — and much closer than Israel.\\nThose bases boast the same kinds of sophisticated air defenses as Israel, but would have much less warning time before waves of missiles or swarms of armed drones. And even Israel, which is several hundred kilometers (miles) further away, has been unable to stop all of the incoming fire.\\nIran could also choose to attack key oil and gas facilities in those countries with the goal of exacting a higher price for U.S. involvement in the war. A drone attack on two major oil sites in Saudi Arabia in 2019 — claimed by the Houthis but widely blamed on Iran — briefly cut the kingdom's oil production in half.\\nActivating regional allies\"),\n",
              " Document(metadata={}, page_content=\"Iran could also choose to attack key oil and gas facilities in those countries with the goal of exacting a higher price for U.S. involvement in the war. A drone attack on two major oil sites in Saudi Arabia in 2019 — claimed by the Houthis but widely blamed on Iran — briefly cut the kingdom's oil production in half.\\nActivating regional allies\\nIran's so-called Axis of Resistance — a network of militant groups across the Middle East, is a shadow of what it was before the war ignited by Hamas' Oct 7, 2023, attack on Israel out of the Gaza Strip — but it still has some formidable capabilities.\\nIsrael's 20-month war in Gaza has severely diminished the Palestinian Hamas and Islamic Jihad groups, and Israel mauled Lebanon's Hezbollah last fall, killing most of its top leadership and devastating much of southern Lebanon, making its involvement unlikely.\\nBut Iran could still call on the Houthis, who had threatened to resume their attacks in the Red Sea if the US entered the war, and allied militias in Iraq. Both have drone and missile capabilities that would allow them to target the United States and its allies.\\nIran could also seek to respond through militant attacks further afield, as it is widely accused of doing in the 1990s with an attack on a Jewish community center in Argentina that was blamed on Iran and Hezbollah.\\nA sprint toward nuclear arms\\nIt could be days or weeks before the full impact of the U.S. strikes on Iran's nuclear sites is known.\\nBut experts have long warned that even joint US and Israeli strikes would only delay Iran's ability to develop a weapon, not eliminate it. That's because Iran has dispersed its programme across the country to several sites, including hardened, underground facilities.\\nIran would likely struggle to repair or reconstitute its nuclear programme while Israeli and US warplanes are circling overhead. But it could still decide to fully end its cooperation with the International Atomic Energy Agency and abandon the the Nuclear Nonproliferation Treaty.\\nNorth Korea announced its withdrawal from the treaty in 2003 and tested a nuclear weapon three years later, but it had the freedom to develop its programme without punishing airstrikes.\\nIran insists its programme is peaceful, though it is the only non-nuclear-armed state to enrich uranium up to 60%, a short, technical step away from weapons-grade levels of 90%. US intelligence agencies and the IAEA assess Iran hasn't had an organized military nuclear programme since 2003.\\nIsrael is widely believed to be the only nuclear-armed state in the Middle East but does not acknowledge having such weapons.\")]"
            ]
          },
          "metadata": {},
          "execution_count": 72
        }
      ]
    },
    {
      "cell_type": "code",
      "source": [
        "from langchain.chains.summarize import load_summarize_chain\n",
        "\n",
        "summary_chain = load_summarize_chain(llm, chain_type=\"map_reduce\")\n",
        "\n",
        "summary = summary_chain.run(docs)\n",
        "print(summary)\n"
      ],
      "metadata": {
        "colab": {
          "base_uri": "https://localhost:8080/"
        },
        "id": "X8NYnrRzYa7C",
        "outputId": "1792727c-3f88-468e-803e-02706555f942"
      },
      "execution_count": null,
      "outputs": [
        {
          "output_type": "stream",
          "name": "stderr",
          "text": [
            "Token indices sequence length is longer than the specified maximum sequence length for this model (719 > 512). Running this sequence through the model will result in indexing errors\n"
          ]
        }
      ]
    },
    {
      "cell_type": "code",
      "source": [],
      "metadata": {
        "id": "q-rtYw-PZjoR"
      },
      "execution_count": null,
      "outputs": []
    }
  ]
}